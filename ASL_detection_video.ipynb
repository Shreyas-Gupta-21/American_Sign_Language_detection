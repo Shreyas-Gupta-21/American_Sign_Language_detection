{
 "cells": [
  {
   "cell_type": "markdown",
   "metadata": {},
   "source": [
    "# NOTEBOOK FOR DETECTION OF HAND GESTURE "
   ]
  },
  {
   "cell_type": "code",
   "execution_count": 8,
   "metadata": {},
   "outputs": [],
   "source": [
    "#Importing necessary libraries\n",
    "import tensorflow as tf\n",
    "from tensorflow import keras\n",
    "from tensorflow.keras.models import load_model\n",
    "import cv2\n",
    "import numpy as np\n",
    "from skimage.transform import resize,pyramid_reduce"
   ]
  },
  {
   "cell_type": "markdown",
   "metadata": {},
   "source": [
    "Refer my ASL_datacreation notebook for understanding of each and every line in code"
   ]
  },
  {
   "cell_type": "code",
   "execution_count": 9,
   "metadata": {},
   "outputs": [],
   "source": [
    "import time"
   ]
  },
  {
   "cell_type": "code",
   "execution_count": 10,
   "metadata": {},
   "outputs": [],
   "source": [
    "model1=load_model(r'C:\\Users\\Aryan Chauhan\\Downloads\\ASL_CNN_MODEL1.h5') #Loading the model"
   ]
  },
  {
   "cell_type": "code",
   "execution_count": 11,
   "metadata": {},
   "outputs": [],
   "source": [
    "background = None\n",
    "accumulated_weight=0.5\n",
    "def cal_accum_avg(frame,accumulated_weight):\n",
    "    global background\n",
    "    if(background is None):\n",
    "        #background=frame.copy().astype('float')\n",
    "        background=frame.copy().astype('float')\n",
    "        return(None)\n",
    "    \n",
    "    cv2.accumulateWeighted(frame,background,accumulated_weight)\n",
    "        \n",
    "    "
   ]
  },
  {
   "cell_type": "code",
   "execution_count": 12,
   "metadata": {},
   "outputs": [],
   "source": [
    "def hand_segmentation(frame,threshold=25):\n",
    "    global background\n",
    "    diff=cv2.absdiff(background.astype('uint8'),frame)\n",
    "    \n",
    "    _ , thresholded=cv2.threshold(diff,threshold,255,cv2.THRESH_BINARY)\n",
    "    \n",
    "    contours,hei=cv2.findContours(thresholded.copy(),cv2.RETR_EXTERNAL,cv2.CHAIN_APPROX_SIMPLE)\n",
    "    \n",
    "    \n",
    "    \n",
    "    if(len(contours)==0):\n",
    "        return(None)\n",
    "    \n",
    "    else:\n",
    "        hand_segment_max=max(contours,key=cv2.contourArea)\n",
    "        \n",
    "        return(thresholded,hand_segment_max)\n",
    "        \n",
    "    \n",
    "    \n",
    "    \n",
    "    "
   ]
  },
  {
   "cell_type": "code",
   "execution_count": 13,
   "metadata": {},
   "outputs": [],
   "source": [
    "word_dict={1:\"A\",2:\"B\",3:\"C\",4:\"D\",5:\"E\",6:\"F\",7:\"G\",8:\"H\",9:\"I\",10:\"J\",11:\"K\",12:\"L\",13:\"M\",14:\"N\",\n",
    "          15:\"O\",16:\"P\",17:\"Q\",18:\"R\",19:\"S\",20:\"T\",21:\"U\",22:\"V\",23:\"W\",24:\"X\",25:\"Y\",26:\"Z\"}"
   ]
  },
  {
   "cell_type": "code",
   "execution_count": 14,
   "metadata": {
    "scrolled": false
   },
   "outputs": [],
   "source": [
    "ROI_top = 100\n",
    "ROI_bottom = 300\n",
    "ROI_right = 150\n",
    "ROI_left = 350\n",
    "\n",
    "camera=cv2.VideoCapture(0)\n",
    "time.sleep(2) \n",
    "num_frames=0\n",
    "while True:\n",
    "    _,image_frame=camera.read()\n",
    "    \n",
    "    image_frame=cv2.flip(image_frame,1)\n",
    "    \n",
    "    img=image_frame.copy()\n",
    "    \n",
    "    roi=image_frame[ROI_top:ROI_bottom,ROI_right:ROI_left]\n",
    "    \n",
    "    \n",
    "    img_grayscale=cv2.cvtColor(roi,cv2.COLOR_BGR2GRAY)\n",
    "    \n",
    "    img_grayscale_blurr=cv2.GaussianBlur(img_grayscale,(9,9),0)\n",
    "    \n",
    "    if(num_frames<70):\n",
    "        \n",
    "        cal_accum_avg(img_grayscale_blurr,accumulated_weight)\n",
    "        \n",
    "        cv2.putText(img,\"FETCHING BACKGROUND PLEASE WAIT\",(80,350),cv2.FONT_HERSHEY_SIMPLEX,\n",
    "                    0.9,(0,0,255),2)\n",
    "        \n",
    "    else:\n",
    "        hand=hand_segmentation(img_grayscale_blurr)\n",
    "        \n",
    "        \n",
    "        if(hand is not None):\n",
    "            thresholded,hand_segment=hand\n",
    "            \n",
    "            cv2.drawContours(img,[hand_segment+(ROI_right,ROI_top)],-1,(255,0,0),1)\n",
    "            \n",
    "            cv2.imshow(\"Threshold_image_of_hand\",thresholded)\n",
    "            \n",
    "            thresholded=cv2.resize(thresholded,(64,64))\n",
    "            \n",
    "            \n",
    "            cv2.imshow(\"real_image\",thresholded)\n",
    "            \n",
    "            \n",
    "            thresholded=np.reshape(thresholded,(1,thresholded.shape[0],thresholded.shape[1],1))\n",
    "            \n",
    "            pred=model1.predict(thresholded)\n",
    "            #print(pred)\n",
    "            if(np.argmax(pred) in word_dict):\n",
    "                cv2.putText(img, word_dict[np.argmax(pred)+1],(170, 45), cv2.FONT_HERSHEY_SIMPLEX, 1, (0,0,255), 2)\n",
    "            else:\n",
    "                cv2.putText(img, \"NOT A SIGN\",(170, 45), cv2.FONT_HERSHEY_SIMPLEX, 1, (0,0,255), 2)\n",
    "            \n",
    "    cv2.rectangle(img,(ROI_left,ROI_top),(ROI_right,ROI_bottom),(255,118,0),2)\n",
    "            \n",
    "    num_frames+=1\n",
    "    \n",
    "    cv2.putText(img, \"hand sign recognition_ _ _\",\n",
    "    (10, 20), cv2.FONT_ITALIC, 0.5, (51,255,51), 1)\n",
    "    \n",
    "    cv2.imshow(\"Sign Detection\", img)\n",
    "    \n",
    "\n",
    "    if(cv2.waitKey(25) & 0xFF==ord('q')):\n",
    "        cv2.destroyAllWindows()\n",
    "        break\n",
    "\n",
    "camera.release()\n",
    "cv2.destroyAllWindows()"
   ]
  },
  {
   "cell_type": "code",
   "execution_count": null,
   "metadata": {},
   "outputs": [],
   "source": []
  },
  {
   "cell_type": "code",
   "execution_count": null,
   "metadata": {},
   "outputs": [],
   "source": []
  }
 ],
 "metadata": {
  "kernelspec": {
   "display_name": "Python 3",
   "language": "python",
   "name": "python3"
  },
  "language_info": {
   "codemirror_mode": {
    "name": "ipython",
    "version": 3
   },
   "file_extension": ".py",
   "mimetype": "text/x-python",
   "name": "python",
   "nbconvert_exporter": "python",
   "pygments_lexer": "ipython3",
   "version": "3.7.4"
  }
 },
 "nbformat": 4,
 "nbformat_minor": 2
}
